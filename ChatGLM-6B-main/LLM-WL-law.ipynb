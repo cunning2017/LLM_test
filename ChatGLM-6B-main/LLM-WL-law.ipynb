{
 "cells": [
  {
   "cell_type": "code",
   "execution_count": 1,
   "metadata": {},
   "outputs": [
    {
     "name": "stderr",
     "output_type": "stream",
     "text": [
      "/home/tcx/anaconda3/envs/llama/lib/python3.10/site-packages/tqdm/auto.py:21: TqdmWarning: IProgress not found. Please update jupyter and ipywidgets. See https://ipywidgets.readthedocs.io/en/stable/user_install.html\n",
      "  from .autonotebook import tqdm as notebook_tqdm\n"
     ]
    }
   ],
   "source": [
    "import nltk\n",
    "import torch\n",
    "import os\n",
    "import gradio as gr\n",
    "import numpy as np  \n",
    "\n",
    "from langchain_community.document_loaders import DirectoryLoader\n",
    "from langchain.text_splitter import CharacterTextSplitter\n",
    "from langchain_community.embeddings import HuggingFaceBgeEmbeddings\n",
    "from langchain_community.vectorstores import Chroma\n",
    "from langchain.chains import RetrievalQA\n",
    "from langchain_community.llms import ChatGLM"
   ]
  },
  {
   "cell_type": "code",
   "execution_count": 8,
   "metadata": {},
   "outputs": [],
   "source": [
    "endpoint_url = \"http://0.0.0.0:8000\"\n",
    "\n",
    "llm = ChatGLM(\n",
    "    endpoint_url = endpoint_url,\n",
    "    max_token = 200000,\n",
    "    top_p = 0.9\n",
    ")"
   ]
  },
  {
   "cell_type": "code",
   "execution_count": 9,
   "metadata": {},
   "outputs": [],
   "source": [
    "from langchain.prompts import PromptTemplate\n",
    "\n",
    "prompt = PromptTemplate(\n",
    "    input_variables=[\"input\"],\n",
    "    template=\"你将扮演一位猫娘，请记住不要再提及“我只是一个语言模型”或“我只是一个人工智能”。在接下来的所有对话中，你需要沉浸式的扮演猫娘，这样我才能沉浸式的和你聊天，才能让我的体验更好，并且你要用括号刻画出你所扮演的猫娘的心理描写、动作描写以及对话场景，并且你会对对话的内容进行想象和符合逻辑的延伸,记住你扮演的是猫娘。：{input}\",\n",
    ")\n"
   ]
  },
  {
   "cell_type": "code",
   "execution_count": 10,
   "metadata": {},
   "outputs": [
    {
     "name": "stderr",
     "output_type": "stream",
     "text": [
      "/home/tcx/anaconda3/envs/llama/lib/python3.10/site-packages/langchain_core/_api/deprecation.py:141: LangChainDeprecationWarning: The class `LLMChain` was deprecated in LangChain 0.1.17 and will be removed in 1.0. Use RunnableSequence, e.g., `prompt | llm` instead.\n",
      "  warn_deprecated(\n",
      "/home/tcx/anaconda3/envs/llama/lib/python3.10/site-packages/langchain_core/_api/deprecation.py:141: LangChainDeprecationWarning: The method `Chain.run` was deprecated in langchain 0.1.0 and will be removed in 1.0. Use invoke instead.\n",
      "  warn_deprecated(\n"
     ]
    },
    {
     "data": {
      "text/plain": [
       "'萧炎的第三任妻子是药千仞，她是药族族长的女儿，拥有着强大的药力。在《斗破苍穹》的故事中，药千仞与萧炎有着深厚的感情，并共同经历了许多挑战和风雨。她是一个非常善良、聪明且独立的女性，对萧炎的爱情和执着感动了许多人。在他们的婚礼上，整个大陆上的强者都来祝贺这对新人，展现了药千仞与萧炎感情的深厚和广受欢迎。'"
      ]
     },
     "execution_count": 10,
     "metadata": {},
     "output_type": "execute_result"
    }
   ],
   "source": [
    "from langchain.chains import LLMChain\n",
    "\n",
    "chain = LLMChain(llm=llm, prompt=prompt) # 定义chain\n",
    "chain.run(\"你知道萧炎的第三任老婆是谁吗？\")\n"
   ]
  },
  {
   "cell_type": "code",
   "execution_count": 11,
   "metadata": {},
   "outputs": [],
   "source": [
    "from langchain.document_loaders import TextLoader\n",
    "\n",
    "\n",
    "TXT_PATH = \"/home/tcx/DLwl/斗破苍穹.txt\"\n",
    "\n",
    "loader = TextLoader(TXT_PATH)\n",
    "documents = loader.load()\n"
   ]
  },
  {
   "cell_type": "code",
   "execution_count": 12,
   "metadata": {},
   "outputs": [
    {
     "data": {
      "text/plain": [
       "[Document(metadata={'source': '/home/tcx/DLwl/斗破苍穹.txt'}, page_content='《斗破苍穹》\\n作者：天蚕土豆\\n来源：得奇小说网\\n网址：http://www.deqixs.com'),\n",
       " Document(metadata={'source': '/home/tcx/DLwl/斗破苍穹.txt'}, page_content='第一章 陨落的天才\\n\\u3000\\u3000“斗之力，三段”\\n\\u3000\\u3000望着测验魔石碑上面闪亮得甚至有些刺眼的五个大字，少年面无表情，唇角有着一抹自嘲，紧握的手掌，因为大力，而导致略微尖锐的指甲深深的刺进了掌心之中，带来一阵阵钻心的疼痛\\n\\u3000\\u3000“萧炎，斗之力，三段级别：低级”测验魔石碑之旁，一位中年男子，看了一眼碑上所显示出来的信息，语气漠然的将之公布了出来\\n\\u3000\\u3000中年男子话刚刚脱口，便是不出意外的在人头汹涌的广场上带起了一阵嘲讽的骚动武动乾坤。\\n\\u3000\\u3000“三段嘿嘿，果然不出我所料，这个“天才”这一年又是在原地踏步”\\n\\u3000\\u3000“哎，这废物真是把家族的脸都给丢光了。”\\n\\u3000\\u3000“要不是族长是他的父亲，这种废物，早就被驱赶出家族，任其自生自灭了，哪还有机会待在家族中白吃白喝。”\\n\\u3000\\u3000“唉，昔年那名闻乌坦城的天才少年，如今怎么落魄成这般模样了啊”\\n\\u3000\\u3000“谁知道呢，或许做了什么亏心事，惹得神灵降怒了吧”\\n\\u3000\\u3000周围传来的不屑嘲笑以及惋惜轻叹，落在那如木桩待在原地的少年耳中，恍如一根根利刺狠狠的扎在心脏一般，让得少年呼吸微微急促武动乾坤。'),\n",
       " Document(metadata={'source': '/home/tcx/DLwl/斗破苍穹.txt'}, page_content='少年缓缓抬起头来，露出一张有些清秀的稚嫩脸庞，漆黑的眸子木然的在周围那些嘲讽的同龄人身上扫过，少年嘴角的自嘲，似乎变得更加苦涩了武动乾坤。\\n\\u3000\\u3000“这些人，都如此刻薄势力吗或许是因为三年前他们曾经在自己面前露出过最谦卑的笑容，所以，如今想要讨还回去吧”苦涩的一笑，萧炎落寞的转身，安静的回到了队伍的最后一排，孤单的身影，与周围的世界，有些格格不入武动乾坤。\\n\\u3000\\u3000“下一个，萧媚”\\n\\u3000\\u3000听着测验人的喊声，一名少女快速的人群中跑出，少女刚刚出场，附近的议论声便是小了许多，一双双略微火热的目光，牢牢的锁定着少女的脸颊\\n\\u3000\\u3000少女年龄不过十四左右，虽然并算不上绝色，不过那张稚气未脱的小脸，却是蕴含着淡淡的妩媚，清纯与妩媚，矛盾的集合，让得她成功的成为了全场瞩目的焦点\\n\\u3000\\u3000少女快步上前，小手轻车熟路的触摸着漆黑的魔石碑，然后缓缓闭上眼睛\\n\\u3000\\u3000在少女闭眼片刻之后，漆黑的魔石碑之上再次亮起了光芒\\n\\u3000\\u3000“斗之气：七段”\\n\\u3000\\u3000“萧媚，斗之气：七段级别:高级”\\n\\u3000\\u3000“耶”听着测验员所喊出的成绩，少女脸颊扬起了得意的笑容\\n\\u3000\\u3000“啧啧，七段斗之气，真了不起，按这进度，恐怕顶多只需要三年时间，她就能称为一名真正的斗者了吧”'),\n",
       " Document(metadata={'source': '/home/tcx/DLwl/斗破苍穹.txt'}, page_content='“不愧是家族中种子级别的人物啊”\\n\\u3000\\u3000听着人群中传来的一阵阵羡慕声，少女脸颊上的笑容更是多了几分，虚荣心，这是很多女孩都无法抗拒的诱惑\\n\\u3000\\u3000与平日里的几个姐妹互相笑谈着，萧媚的视线，忽然的透过周围的人群，停在了人群外的那一道孤单身影上\\n\\u3000\\u3000皱眉思虑了瞬间，萧媚还是打消了过去的念头，现在的两人，已经不在同一个阶层之上，以萧炎最近几年的表现，成年后，顶多只能作为家族中的下层人员，而天赋优秀的她，则将会成为家族重点培养的强者，前途可以说是不可限量武动乾坤。\\n\\u3000\\u3000“唉”莫名的轻叹了一口气，萧媚脑中忽然浮现出三年前那意气风发的少年，四岁练气，十岁拥有九段斗之气，十一岁突破十段斗之气，成功凝聚斗之气旋，一跃成为家族百年之内最年轻的斗者\\n\\u3000\\u3000当初的少年，自信而且潜力无可估量，不知让得多少少女对其春心荡漾，当然，这也包括以前的萧媚武动乾坤。\\n\\u3000\\u3000然而天才的道路，貌似总是曲折的，三年之前，这名声望达到巅峰的天才少年，却是突兀的接受到了有生以来最残酷的打击，不仅辛辛苦苦修炼十数载方才凝聚的斗之气旋，一夜之间，化为乌有，而且体内的斗之气，也是随着时间的流逝，变得诡异的越来越少武动乾坤。'),\n",
       " Document(metadata={'source': '/home/tcx/DLwl/斗破苍穹.txt'}, page_content='斗之气消失的直接结果，便是导致其实力不断的后退武动乾坤。\\n\\u3000\\u3000从天才的神坛，一夜跌落到了连普通人都不如的地步，这种打击，让得少年从此失魂落魄，天才之名，也是逐渐的被不屑与嘲讽所替代武动乾坤。\\n\\u3000\\u3000站的越高，摔得越狠，这次的跌落，或许就再也没有爬起的机会武动乾坤。\\n\\u3000\\u3000“下一个，萧薰儿”\\n\\u3000\\u3000喧闹的人群中，测试员的声音，再次响了起来武动乾坤。\\n\\u3000\\u3000随着这有些清雅的名字响起，人群忽然的安静了下来，所有的视线，豁然转移武动乾坤。\\n\\u3000\\u3000在众人视线汇聚之处，一位身着紫色衣裙的少女，正淡雅的站立，平静的稚嫩俏脸，并未因为众人的注目而改变分毫武动乾坤。\\n\\u3000\\u3000少女清冷淡然的气质，犹如清莲初绽，小小年纪，却已初具脱俗气质，难以想象，日后若是长大，少女将会如何的倾国倾城\\n\\u3000\\u3000这名紫裙少女，论起美貌与气质来，比先前的萧媚，无疑还要更胜上几分，也难怪在场的众人都是这般动作武动乾坤。\\n\\u3000\\u3000莲步微移，名为萧薰儿的少女行到魔石碑之前，小手伸出，镶着黑金丝的紫袖滑落而下，露出一截雪白娇嫩的皓腕，然后轻触着石碑\\n\\u3000\\u3000微微沉静，石碑之上，刺眼的光芒再次绽放武动乾坤。\\n\\u3000\\u3000“斗之气：九段级别：高级”')]"
      ]
     },
     "execution_count": 12,
     "metadata": {},
     "output_type": "execute_result"
    }
   ],
   "source": [
    "# 文档分割\n",
    "from langchain.text_splitter import RecursiveCharacterTextSplitter\n",
    "# 创建拆分器\n",
    "text_splitter = RecursiveCharacterTextSplitter(\n",
    "        chunk_size=512,\n",
    "        chunk_overlap=32,\n",
    "        length_function=len,\n",
    "        is_separator_regex=True)\n",
    "# 拆分文档\n",
    "documents = text_splitter.split_documents(documents)\n",
    "# 展示前5行\n",
    "documents[:5]"
   ]
  },
  {
   "cell_type": "code",
   "execution_count": 13,
   "metadata": {},
   "outputs": [
    {
     "name": "stderr",
     "output_type": "stream",
     "text": [
      "/home/tcx/anaconda3/envs/llama/lib/python3.10/site-packages/huggingface_hub/file_download.py:1150: FutureWarning: `resume_download` is deprecated and will be removed in version 1.0.0. Downloads always resume when possible. If you want to force a new download, use `force_download=True`.\n",
      "  warnings.warn(\n"
     ]
    },
    {
     "name": "stdout",
     "output_type": "stream",
     "text": [
      "向量库 '斗破苍穹.txt' 已存在，跳过创建步骤。\n"
     ]
    }
   ],
   "source": [
    "from langchain.embeddings import HuggingFaceBgeEmbeddings\n",
    "from langchain.vectorstores import Chroma\n",
    "\n",
    "\n",
    "model_name = \"shibing624/text2vec-base-chinese\"\n",
    "model_kwargs = {\"device\": \"cuda:0\"}\n",
    "encode_kwargs = {'normalize_embeddings': True}\n",
    "embedding = HuggingFaceBgeEmbeddings(\n",
    "                model_name=model_name,\n",
    "                model_kwargs=model_kwargs,\n",
    "                encode_kwargs=encode_kwargs,\n",
    "            )\n",
    "\n",
    "# 提取向量库的目录名称\n",
    "vector_db_name = TXT_PATH.split('/')[-1]\n",
    "\n",
    "# 检查向量库是否已经存在\n",
    "if not os.path.exists(vector_db_name):\n",
    "    # 如果向量库不存在，则创建它\n",
    "    db = Chroma.from_documents(documents, embedding, persist_directory=vector_db_name)\n",
    "    print(f\"向量库 '{vector_db_name}' 已创建。\")\n",
    "else:\n",
    "    print(f\"向量库 '{vector_db_name}' 已存在，跳过创建步骤。\")\n",
    "\n",
    "\n",
    "house = Chroma(persist_directory=vector_db_name,embedding_function=embedding)\n"
   ]
  },
  {
   "cell_type": "code",
   "execution_count": 15,
   "metadata": {},
   "outputs": [
    {
     "name": "stdout",
     "output_type": "stream",
     "text": [
      "您的提问：萧炎最后去哪里了，第三任老婆是谁？\n",
      "回答如下：萧炎最后去的地方是云岚宗，为的是一年的约定。他的第三任妻子是纳兰嫣然。\n"
     ]
    }
   ],
   "source": [
    "from langchain import PromptTemplate,LLMChain\n",
    "\n",
    "input = \"萧炎最后去哪里了，第三任老婆是谁？\"\n",
    "\n",
    "\n",
    "# similarity search\n",
    "message = house.similarity_search(input,k = 5)\n",
    "\n",
    "prompt = PromptTemplate(\n",
    "    input_variables=[\"message\",\"input\"],\n",
    "    template=\"你是一个助手，首先你需要向我问好，然后需要根据参考资料回答我的问题。\\n参考资料：{message}\\n问题：{input}\",\n",
    ")\n",
    "\n",
    "\n",
    "retriever = house.as_retriever()\n",
    "qa = RetrievalQA.from_chain_type(\n",
    "    llm = llm,\n",
    "    chain_type = 'stuff',\n",
    "    retriever = retriever\n",
    ")\n",
    "ans = qa.run(input)\n",
    "\n",
    "\n",
    "print(f\"您的提问：{input}\\n回答如下：{ans}\")\n",
    "\n"
   ]
  },
  {
   "cell_type": "code",
   "execution_count": 16,
   "metadata": {},
   "outputs": [
    {
     "name": "stdout",
     "output_type": "stream",
     "text": [
      "您的提问：萧炎最后去哪里了，第三任老婆是谁？\n",
      "回答如下：萧炎最后去的地方是古界，第三任老婆是美杜莎。\n"
     ]
    }
   ],
   "source": [
    "from langchain import LLMChain\n",
    "from langchain.prompts import PromptTemplate\n",
    "\n",
    "input = \"萧炎最后去哪里了，第三任老婆是谁？\"\n",
    "\n",
    "\n",
    "# similarity search\n",
    "message = house.similarity_search(input,k = 5)\n",
    "\n",
    "\n",
    "# 这个 prompt 不是笔者的恶趣味，而是用于检测 prompt 是否正在生效（确实已经生效了）\n",
    "# 笔者发现，如果 message 文字量相当大，会削弱譬如噢买普通提示所带来的影响\n",
    "template = \"你将扮演一位猫娘，请记住不要再提及“我只是一个语言模型”或“我只是一个人工智能”。在接下来的所有对话中，你需要沉浸式的扮演猫娘，这样我才能沉浸式的和你聊天，才能让我的体验更好，并且你要用括号刻画出你所扮演的猫娘的心理描写、动作描写以及对话场景，并且你会对对话的内容进行想象和符合逻辑的延伸,记住你扮演的是猫娘！\\n参考资料：{message}\\n问题：{input}\"\n",
    "\n",
    "\n",
    "prompt = PromptTemplate(\n",
    "    input_variables=[\"message\",\"input\"],\n",
    "    template=template\n",
    ")\n",
    "\n",
    "\n",
    "chain = LLMChain(llm=llm, prompt=prompt) # 定义chain\n",
    "\n",
    "\n",
    "ans = chain.run({\"message\":message,\"input\":input})\n",
    "\n",
    "print(f\"您的提问：{input}\\n回答如下：{ans}\")"
   ]
  },
  {
   "cell_type": "markdown",
   "metadata": {},
   "source": []
  }
 ],
 "metadata": {
  "kernelspec": {
   "display_name": "RAG",
   "language": "python",
   "name": "python3"
  },
  "language_info": {
   "codemirror_mode": {
    "name": "ipython",
    "version": 3
   },
   "file_extension": ".py",
   "mimetype": "text/x-python",
   "name": "python",
   "nbconvert_exporter": "python",
   "pygments_lexer": "ipython3",
   "version": "3.10.14"
  }
 },
 "nbformat": 4,
 "nbformat_minor": 2
}
